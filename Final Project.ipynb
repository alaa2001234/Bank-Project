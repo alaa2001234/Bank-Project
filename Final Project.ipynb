{
 "cells": [
  {
   "cell_type": "markdown",
   "id": "3d6f8af4",
   "metadata": {},
   "source": [
    "# Bank"
   ]
  },
  {
   "cell_type": "markdown",
   "id": "3df25061",
   "metadata": {},
   "source": [
    "### A simplified system that simulates a database"
   ]
  },
  {
   "cell_type": "code",
   "execution_count": 145,
   "id": "fd5f4332",
   "metadata": {},
   "outputs": [],
   "source": [
    "class Bank ():\n",
    "    #Data for Employees\n",
    "    Employees   = [\"ALAA KHALED\",\"OMAR ALI\"]\n",
    "    Phone_e     = ['01008331954',\"01054589540\"]\n",
    "    Email_e     = [\"alaa.kd2001@gmail.com\",\"omar.ali99@gmail.com\"]\n",
    "    Address_e   = [\"ELMINYA\",\"CAIRO\"]\n",
    "    Gender_e    = [\"Male\",\"Male\"]\n",
    "    Age_e       = [22,25]\n",
    "    Salary_e    = [20000,7000]\n",
    "    Sections_e  = [\"Manager \",\"Manager assistant\"]\n",
    "    id_e        = ['181050011',\"181050001\"]\n",
    "    #Data for Customers\n",
    "    Customers     = [\"FATMA MOHAMED\"]\n",
    "    Phone_c       = [\"01000024510\"]\n",
    "    Email_c       = [\"Fatma2002@gmail.com\"]\n",
    "    Address_c     = [\"BNISWEEF\"]\n",
    "    Gender_c      = [\"Femal\"]\n",
    "    Age_c         = [21]\n",
    "    Balance_c     = [18000]\n",
    "    National_ID_c = [1002145600]\n",
    "    \n",
    "    __Sections = [\"Manager\", \"Manager assistant\", \"Call Center\" , \"IT\" , \"Data analyst\" , \"Web Developer\",\"Security Guard\",\"Receptionist\"]\n",
    "    __Salaries = [20000,7000,4000,4500,5000,6200,3000,3500]\n",
    "    __count = 0\n",
    "    cheek   = \"\"\n",
    "    \n",
    "    \n",
    "    def __init__(self , Gender = \"None\", Age = 22 , Email = \"\", Address = \"\" , Phone = \" \"):\n",
    "        print(\"\\t\\t\\t\\t---## Welcome in Smart Bank ##---\\n\\n\")\n",
    "            \n",
    "        self.Gender   = Gender\n",
    "        self.Age      = Age\n",
    "        self.Email    = Email\n",
    "        self.Address  = Address\n",
    "        self.Phone    = Phone\n",
    "        Bank.__count +=1\n",
    "        \n",
    "    #Get All information --------------------------------------------------\n",
    "    def get_Customers(self):\n",
    "        for x in range(0,len(self.Customers)):\n",
    "            print(x ,\"-\\nName    : \",self.Customers[x] ,\"\\nID      : \",self.National_ID_c[x] , \"\\nBalance : \",self.Balance_c[x],'$' ,\"\\nGender  : \" ,self.Gender_c[x],\"\\nAge     : \",self.Age_c[x],\"\\nPhone   : \",self.Phone_c[x],\"\\nEmail   : \" ,self.Email_c[x],\"\\nAddress : \",self.Address_c[x] ,\"\\n\")\n",
    "            print(\"----------------------------\")\n",
    "            \n",
    "        \n",
    "    def get_Employees(self):\n",
    "        for x in range(0,len(self.Employees)):\n",
    "            print(x ,\"-\\nName    : \",self.Employees[x] ,\"\\nID      : \",self.id_e[x] , \"\\nSalary  : \",self.Salary_e[x] ,'$', \"\\nSection : \",self.Sections_e[x] ,\"\\nGender  : \" ,self.Gender_e[x],\"\\nAge     : \",self.Age_e[x],\"\\nPhone   : \",self.Phone_e[x],\"\\nEmail   : \" ,self.Email_e[x],\"\\nAddress : \",self.Address_e[x] ,\"\\n\")\n",
    "            print(\"----------------------------\")\n",
    "    \n",
    "    #Get Number ---------------------------------------------------------------    \n",
    "    def get_Number_of_Customers(self):\n",
    "        print(len(self.Customers))\n",
    "        \n",
    "    def get_Number_of_Employees(self):\n",
    "        print(len(self.Employees))\n",
    "        \n",
    "    \n",
    "    \n",
    "    # Get information from Bank -------------------------------------------------    \n",
    "    def __get_Sections_and_salaries(self):\n",
    "        for x in range (0,8):\n",
    "            print(self.__Sections[x] , \"-->\" ,self.__Salaries[x],\"\\n\" )\n",
    "            \n",
    "    def __get_information_from_bank(self):\n",
    "        print(\"\\n\\n\\t\\t\\t\\t\\tSMART BANK \\n\\nFounded in 2022 in Minya Governorate, this bank is an artificial intelligence-powered electronic bank that was created to facilitate matters for citizens and preserve their time.\\nHave a nice day .\\nBank Manager Eng. Alaa Khaled Shehata\")\n",
    "       \n",
    "    def __get_all_customers_and_employees(self):\n",
    "        print(\"**------------#Employees#------------**\")\n",
    "        for x in range(0,len(self.Employees)):\n",
    "            print(x+1 ,\"-\\nName    : \",self.Employees[x] ,\"\\nID      : \",self.id_e[x] , \"\\nSalary  : \",self.Salary_e[x] ,'$', \"\\nSection : \",self.Sections_e[x] ,\"\\nGender  : \" ,self.Gender_e[x],\"\\nAge     : \",self.Age_e[x],\"\\nPhone   : \",self.Phone_e[x],\"\\nEmail   : \" ,self.Email_e[x],\"\\nAddress : \",self.Address_e[x] ,\"\\n\")\n",
    "            print(\"----------------------------\")\n",
    "        print(\"\\n\\n#**------------##******************##------------**#\\n\\n\")    \n",
    "        print(\"**------------#Customers#------------**\")    \n",
    "        for x in range(0,len(self.Customers)):\n",
    "            print(x+1 ,\"-\\nName    : \",self.Customers[x] ,\"\\nID      : \",self.National_ID_c[x] , \"\\nBalance : \",self.Balance_c[x],'$' ,\"\\nGender  : \" ,self.Gender_c[x],\"\\nAge     : \",self.Age_c[x],\"\\nPhone   : \",self.Phone_c[x],\"\\nEmail   : \" ,self.Email_c[x],\"\\nAddress : \",self.Address_c[x] ,\"\\n\")\n",
    "            print(\"----------------------------\")\n",
    "            \n",
    "            \n",
    "            \n",
    "            \n",
    "    #Search , Get , remove and update customers --------------------------------------------------        \n",
    "    def search_by_id_customers (self,stringid):#Hint id is string\n",
    "        x=0\n",
    "        for i in range(0,len(self.National_ID_c)):\n",
    "            if stringid == self.National_ID_c[i]:\n",
    "                print (\"found in \",i)\n",
    "                break\n",
    "            x = x+1\n",
    "        if(x>=len(self.National_ID_c)) : \n",
    "            print(\"not found\")\n",
    "            \n",
    "    def get_customers_by_index(self,index):#When you search for a customer's name and it is found, the index is returned\n",
    "        print(index ,\"-\\nName    : \",self.Customers[index] ,\"\\nID      : \",self.National_ID_c[index] , \"\\nBalance : \",self.Balance_c[index] ,'$',\"\\nGender  : \" ,self.Gender_c[index],\"\\nAge     : \",self.Age_c[index],\"\\nPhone   : \",self.Phone_c[index],\"\\nEmail   : \" ,self.Email_c[index],\"\\nAddress : \",self.Address_c[index] ,\"\\n\")\n",
    "        print(\"----------------------------\")   \n",
    "    def remove_customers_by_index(self,index):\n",
    "        cheek = int(input(\"Warning !! \\nAll data for the Customers will be erased \\nPress 0 to cancel or 1 to continue  : \"))\n",
    "        if(cheek == 1):\n",
    "            self.Customers.pop(index) \n",
    "            self.National_ID_c.pop(index)\n",
    "            self.Balance_c.pop(index)\n",
    "            self.Gender_c.pop(index)\n",
    "            self.Age_c.pop(index)\n",
    "            self.Phone_c.pop(index)\n",
    "            self.Email_c.pop(index)\n",
    "            self.Address_c.pop(index)  \n",
    "            print(\"Data has been deleted successfully\")\n",
    "        elif (cheek == 0) :\n",
    "            print(\"The operation was canceled successfully\")\n",
    "        else : \n",
    "            print(\"Wrong Choice\")\n",
    "            \n",
    "            \n",
    "    def update_customers (self,index):\n",
    "        operation = input(\"\\nWhat do you want to update \\n-NAME \\n-AGE \\n-PHONE \\n-EMAIL \\n-Address \\n-GENDER \\n-BALANCE \\n-ID \\n-ALL  \\n -->\")\n",
    "        operation = operation.upper()\n",
    "        if (operation == \"NAME\"):\n",
    "            self.Customers[index]  = input(\"Enter New Name  :  \").upper()\n",
    "\n",
    "        elif (operation == \"AGE\") :\n",
    "            A  = int(input(\"Enter New Age  :  \"))\n",
    "            if(A < 18):\n",
    "                print(\"We apologize, we are not allowed to deal with people under the age of 18\")\n",
    "            else :\n",
    "                self.Age_c[index] = A\n",
    "\n",
    "        elif (operation == \"PHONE\") :\n",
    "            self.Phone_c[index]    = input(\"Enter New Phone  :  \")\n",
    "        elif (operation == \"EMAIL\") :\n",
    "            self.Email_c[index]    = input(\"Enter New Email  :  \")\n",
    "        elif (operation == \"ADDRESS\") :\n",
    "            self.Address_c[index]  = input(\"Enter New Address  :  \")\n",
    "        elif (operation == \"GENDER\") :\n",
    "            self.Gender_c[index]   = input(\"Enter New Gender  :  \")\n",
    "        elif (operation == \"BALANCE\") :\n",
    "            self.Balance_c[index]  = input(\"Enter New Balance  :  \")\n",
    "        elif (operation == \"ID \") :\n",
    "            self.National_ID_c[index] = input(\"Enter New National_ID  :  \")\n",
    "        elif (operation == \"ALL\") :\n",
    "            A  = int(input(\"Enter New Age  :  \"))\n",
    "            if(A < 18):\n",
    "                print(\"We apologize, we are not allowed to deal with people under the age of 18\")\n",
    "            else :\n",
    "\n",
    "                    self.Customers[index]     = input(\"Enter New Name  :  \").upper()\n",
    "                    self.National_ID_c[index] = input(\"Enter New National_ID  :  \")\n",
    "                    self.Age_c[index]         = A\n",
    "                    self.Gender_c[index]      = input(\"Enter New Gender  :  \")\n",
    "                    self.Phone_c[index]       = input(\"Enter New Phone  :  \")\n",
    "                    self.Email_c[index]       = input(\"Enter New Email  :  \")\n",
    "                    self.Address_c[index]     = input(\"Enter New Address  :  \").upper()\n",
    "                    self.Balance_c[index]     = input(\"Enter New Balance  :  \")\n",
    "        else : \n",
    "            print(\"\\nWrong choice\\n\")\n",
    "\n",
    "            \n",
    "            \n",
    "            \n",
    "            \n",
    "    #Search , Get , remove and update Employees -------------------------------------------------- \n",
    "    def search_by_id_employees (self,stringid):#Hint id is string\n",
    "        x=0\n",
    "        for i in range(0,len(self.id_e)):\n",
    "            if stringid == self.id_e[i]:\n",
    "                print (\"found in \",i)\n",
    "                break\n",
    "            x = x+1\n",
    "        if(x>=len(self.id_e)) : \n",
    "            print(\"not found\")\n",
    "            \n",
    "    def get_employees_by_index(self,index): #When you search for a customer's name and it is found, the index is returned\n",
    "            print(\"-\\nName    : \",self.Employees[index] ,\"\\nID      : \",self.id_e[index],\"\\nSalary  : \",self.Salary_e[index],'$' ,\"\\nGender  : \" ,self.Gender_e[index],\"\\nAge     : \",self.Age_e[index],\"\\nPhone   : \",self.Phone_e[index],\"\\nEmail   : \" ,self.Email_e[index],\"\\nAddress : \",self.Address_e[index] ,\"\\n\")\n",
    "            \n",
    "    def remove_employees_by_index(self,index):\n",
    "        cheek = int(input(\"Warning !! \\nAll data for the Employees will be erased \\nPress 0 to cancel or 1 to continue\"))\n",
    "        if(cheek == 1):\n",
    "            self.Employees.pop(index) \n",
    "            self.id_e.pop(index)\n",
    "            self.Salary_e.pop(index)\n",
    "            self.Gender_e.pop(index)\n",
    "            self.Age_e.pop(index)\n",
    "            self.Phone_e.pop(index)\n",
    "            self.Email_e.pop(index)\n",
    "            self.Address_e.pop(index) \n",
    "            self.Sections_e.pop(index)\n",
    "           \n",
    "            print(\"Data has been deleted successfully\")\n",
    "        elif (cheek == 0) :\n",
    "            print(\"The operation was canceled successfully\")\n",
    "        else : \n",
    "            print(\"Wrong Choice\")\n",
    "            \n",
    "            \n",
    "            \n",
    "    def update_employees (self,index):\n",
    "        \n",
    "        operation = input(\"What do you want to update \\n-NAME \\n-AGE \\n-PHONE \\n-EMAIL \\n-Address \\n-GENDER \\n-SECTIONS \\n-SALARY \\n-ID \\n-ALL \\n -->\")\n",
    "        operation = operation.upper()\n",
    "        if (operation == \"NAME\"):\n",
    "            self.Employees[index]  = input(\"Enter New Name  :  \").upper()\n",
    "            \n",
    "        elif (operation == \"AGE\") :\n",
    "            self.Age_e[index] = int(input(\"Enter New Age  :  \")) \n",
    "        elif (operation == \"PHONE\") :\n",
    "            self.Phone_e[index]    = input(\"Enter New Phone  :  \")\n",
    "        elif (operation == \"EMAIL\") :\n",
    "            self.Email_e[index]    = input(\"Enter New Email  :  \")\n",
    "            \n",
    "        elif (operation == \"ADDRESS\") :\n",
    "            self.Address_e[index]  = input(\"Enter New Address  :  \").upper()\n",
    "        elif (operation == \"GENDER\") :\n",
    "            self.Gender_e[index]   = input(\"Enter New Gender  :  \")\n",
    "        elif (operation == \"SALARY\") :\n",
    "            self.Salary_e[index]  = input(\"Enter New Salary  :  \")\n",
    "            \n",
    "        elif (operation == \"SECTIONS\") :\n",
    "            self.Sections_e[index] = input(\"Enter New Sections  :  \")\n",
    "        elif (operation == \"ID \") :\n",
    "            self.id_e[index] = input(\"Enter New ID  :  \")\n",
    "        elif (operation == \"ALL \") :\n",
    "            self.Employees[index]     = input(\"Enter New Name  :  \").upper()\n",
    "            self.id_e[index]          = input(\"Enter New ID  :  \")\n",
    "            self.Sections_e[index]    = input(\"Enter New Sections  :  \")\n",
    "            self.Age_e[index]         = input(\"Enter New Age  :  \")\n",
    "            self.Gender_e[index]      = input(\"Enter New Gender  :  \")\n",
    "            self.Phone_e[index]       = input(\"Enter New Phone  :  \")\n",
    "            self.Email_e[index]       = input(\"Enter New Email  :  \")\n",
    "            self.Address_e[index]     = input(\"Enter New Address  :  \").upper()\n",
    "            self.Salary_e[index]      = input(\"Enter New Balance  :  \")\n",
    "        else : \n",
    "            print(\"\\nWrong choice\\n\")\n",
    "\n",
    "\n",
    "                  \n",
    "            \n",
    "            \n",
    "    \n",
    "    "
   ]
  },
  {
   "cell_type": "code",
   "execution_count": 146,
   "id": "fc07b79f",
   "metadata": {},
   "outputs": [
    {
     "name": "stdout",
     "output_type": "stream",
     "text": [
      "\t\t\t\t---## Welcome in Smart Bank ##---\n",
      "\n",
      "\n"
     ]
    }
   ],
   "source": [
    "b = Bank()"
   ]
  },
  {
   "cell_type": "code",
   "execution_count": 152,
   "id": "7a55eb0b",
   "metadata": {},
   "outputs": [
    {
     "name": "stdout",
     "output_type": "stream",
     "text": [
      "\n",
      "\n",
      "\t\t\t\t\tSMART BANK \n",
      "\n",
      "Founded in 2022 in Minya Governorate, this bank is an artificial intelligence-powered electronic bank that was created to facilitate matters for citizens and preserve their time.\n",
      "Have a nice day .\n",
      "Bank Manager Eng. Alaa Khaled Shehata\n"
     ]
    }
   ],
   "source": [
    "b._Bank__get_information_from_bank()"
   ]
  },
  {
   "cell_type": "code",
   "execution_count": 153,
   "id": "3ac27d2c",
   "metadata": {},
   "outputs": [
    {
     "name": "stdout",
     "output_type": "stream",
     "text": [
      "**------------#Employees#------------**\n",
      "1 -\n",
      "Name    :  ALAA KHALED \n",
      "ID      :  181050011 \n",
      "Salary  :  20000 $ \n",
      "Section :  Manager  \n",
      "Gender  :  Male \n",
      "Age     :  22 \n",
      "Phone   :  01008331954 \n",
      "Email   :  alaa.kd2001@gmail.com \n",
      "Address :  ELMINYA \n",
      "\n",
      "----------------------------\n",
      "2 -\n",
      "Name    :  OMAR ALI \n",
      "ID      :  181050001 \n",
      "Salary  :  7000 $ \n",
      "Section :  Manager assistant \n",
      "Gender  :  Male \n",
      "Age     :  25 \n",
      "Phone   :  01054589540 \n",
      "Email   :  omar.ali99@gmail.com \n",
      "Address :  CAIRO \n",
      "\n",
      "----------------------------\n",
      "\n",
      "\n",
      "#**------------##******************##------------**#\n",
      "\n",
      "\n",
      "**------------#Customers#------------**\n",
      "1 -\n",
      "Name    :  FATMA MOHAMED \n",
      "ID      :  1002145600 \n",
      "Balance :  18000 $ \n",
      "Gender  :  Femal \n",
      "Age     :  21 \n",
      "Phone   :  01000024510 \n",
      "Email   :  Fatma2002@gmail.com \n",
      "Address :  BNISWEEF \n",
      "\n",
      "----------------------------\n"
     ]
    }
   ],
   "source": [
    "b._Bank__get_all_customers_and_employees()"
   ]
  },
  {
   "cell_type": "code",
   "execution_count": 154,
   "id": "1eb8d107",
   "metadata": {},
   "outputs": [
    {
     "name": "stdout",
     "output_type": "stream",
     "text": [
      "Manager --> 20000 \n",
      "\n",
      "Manager assistant --> 7000 \n",
      "\n",
      "Call Center --> 4000 \n",
      "\n",
      "IT --> 4500 \n",
      "\n",
      "Data analyst --> 5000 \n",
      "\n",
      "Web Developer --> 6200 \n",
      "\n",
      "Security Guard --> 3000 \n",
      "\n",
      "Receptionist --> 3500 \n",
      "\n"
     ]
    }
   ],
   "source": [
    "b._Bank__get_Sections_and_salaries()"
   ]
  },
  {
   "cell_type": "markdown",
   "id": "3f5ed5a7",
   "metadata": {},
   "source": [
    "# Customers"
   ]
  },
  {
   "cell_type": "code",
   "execution_count": 155,
   "id": "8b6a5d52",
   "metadata": {},
   "outputs": [],
   "source": [
    "class Customers (Bank) :\n",
    "    Full_name_c = \"\"\n",
    "    def __init__(self ,Gender=\"\", Age=22,Email=\"\", Address=\"\" ,Phone=\"\",Fristname=\"\",Lastname=\"\", Balance=0 ,National_ID =0):\n",
    "        super().__init__( Gender, Age, Email, Address, Phone )\n",
    "        self.Fristname   = Fristname\n",
    "        self.Lastname    = Lastname\n",
    "        self.Balance     = Balance\n",
    "        self.National_ID = National_ID\n",
    "        \n",
    "       \n",
    "            \n",
    "    def set_new_customers(self) : \n",
    "        self.Gender      = input(\"Male or Female : \")\n",
    "        self.Fristname   = input(\"Enter Your Fristname :  \") \n",
    "        self.Lastname    = input(\"Enter Your Lastname : \") \n",
    "        self.National_ID = input(\"Enter Your National_ID : \")\n",
    "        self. Age        = int(input(\"Enter Your Age :  \")) \n",
    "        self.Email       = input(\"Enter Your Email :  \") \n",
    "        self.Address     = input(\"Enter Your Address :  \") \n",
    "        self.Phone       = input(\"Enter Your Phone :  \")  \n",
    "        self.Balance     = int(input(\"Enter the deposit amount :  \"))\n",
    "        self.Full_name_c   = self.Fristname +\" \" + self.Lastname\n",
    "        \n",
    "        #Activate the capitalization mode to facilitate the search process\n",
    "        self.Full_name_c   = self.Full_name_c.upper()\n",
    "        self.Address       = self.Address.upper()\n",
    "        \n",
    "        if(self.Age <18):\n",
    "            print(\"We apologize, we are not allowed to deal with people under the age of 18\")\n",
    "        else :\n",
    "            self.Customers.append(self.Full_name_c)\n",
    "            self.Address_c.append(self.Address)\n",
    "            self.Phone_c.append(self.Phone)\n",
    "            self.Gender_c.append(self.Gender)\n",
    "            self.Age_c.append(self.Age)\n",
    "            self.Email_c.append(self.Email)\n",
    "            self.Balance_c.append(self.Balance)\n",
    "            self.National_ID_c.append(self.National_ID)\n",
    "        \n",
    "            \n",
    "    \n",
    "        \n",
    "            \n",
    "        \n",
    "    "
   ]
  },
  {
   "cell_type": "code",
   "execution_count": 156,
   "id": "81cfb1ae",
   "metadata": {},
   "outputs": [
    {
     "name": "stdout",
     "output_type": "stream",
     "text": [
      "\t\t\t\t---## Welcome in Smart Bank ##---\n",
      "\n",
      "\n"
     ]
    }
   ],
   "source": [
    "cust1 = Customers()"
   ]
  },
  {
   "cell_type": "code",
   "execution_count": 157,
   "id": "d10844e0",
   "metadata": {},
   "outputs": [
    {
     "name": "stdout",
     "output_type": "stream",
     "text": [
      "Male or Female : male\n",
      "Enter Your Fristname :  dads\n",
      "Enter Your Lastname : dada\n",
      "Enter Your National_ID : 9382\n",
      "Enter Your Age :  38\n",
      "Enter Your Email :  lsadjn\n",
      "Enter Your Address :  asdioaj\n",
      "Enter Your Phone :  12893\n",
      "Enter the deposit amount :  12731\n"
     ]
    }
   ],
   "source": [
    "cust1.set_new_customers()"
   ]
  },
  {
   "cell_type": "code",
   "execution_count": 158,
   "id": "a81504b2",
   "metadata": {},
   "outputs": [
    {
     "name": "stdout",
     "output_type": "stream",
     "text": [
      "0 -\n",
      "Name    :  FATMA MOHAMED \n",
      "ID      :  1002145600 \n",
      "Balance :  18000 $ \n",
      "Gender  :  Femal \n",
      "Age     :  21 \n",
      "Phone   :  01000024510 \n",
      "Email   :  Fatma2002@gmail.com \n",
      "Address :  BNISWEEF \n",
      "\n",
      "----------------------------\n",
      "1 -\n",
      "Name    :  DADS DADA \n",
      "ID      :  9382 \n",
      "Balance :  12731 $ \n",
      "Gender  :  male \n",
      "Age     :  38 \n",
      "Phone   :  12893 \n",
      "Email   :  lsadjn \n",
      "Address :  ASDIOAJ \n",
      "\n",
      "----------------------------\n"
     ]
    }
   ],
   "source": [
    "cust1.get_Customers()"
   ]
  },
  {
   "cell_type": "code",
   "execution_count": 161,
   "id": "f124d743",
   "metadata": {},
   "outputs": [
    {
     "name": "stdout",
     "output_type": "stream",
     "text": [
      "found in  1\n"
     ]
    }
   ],
   "source": [
    "cust1.search_by_id_customers(\"9382\")"
   ]
  },
  {
   "cell_type": "code",
   "execution_count": 162,
   "id": "aff8ea63",
   "metadata": {},
   "outputs": [
    {
     "name": "stdout",
     "output_type": "stream",
     "text": [
      "1 -\n",
      "Name    :  DADS DADA \n",
      "ID      :  9382 \n",
      "Balance :  12731 $ \n",
      "Gender  :  male \n",
      "Age     :  38 \n",
      "Phone   :  12893 \n",
      "Email   :  lsadjn \n",
      "Address :  ASDIOAJ \n",
      "\n",
      "----------------------------\n"
     ]
    }
   ],
   "source": [
    "cust1.get_customers_by_index(1)"
   ]
  },
  {
   "cell_type": "code",
   "execution_count": 163,
   "id": "eb23b286",
   "metadata": {},
   "outputs": [
    {
     "name": "stdout",
     "output_type": "stream",
     "text": [
      "\n",
      "What do you want to update \n",
      "-NAME \n",
      "-AGE \n",
      "-PHONE \n",
      "-EMAIL \n",
      "-Address \n",
      "-GENDER \n",
      "-BALANCE \n",
      "-ID \n",
      "-ALL  \n",
      " -->age\n",
      "Enter New Age  :  10\n",
      "We apologize, we are not allowed to deal with people under the age of 18\n"
     ]
    }
   ],
   "source": [
    "cust1.update_customers(1)"
   ]
  },
  {
   "cell_type": "code",
   "execution_count": 164,
   "id": "a333e024",
   "metadata": {},
   "outputs": [
    {
     "name": "stdout",
     "output_type": "stream",
     "text": [
      "1 -\n",
      "Name    :  DADS DADA \n",
      "ID      :  9382 \n",
      "Balance :  12731 $ \n",
      "Gender  :  male \n",
      "Age     :  38 \n",
      "Phone   :  12893 \n",
      "Email   :  lsadjn \n",
      "Address :  ASDIOAJ \n",
      "\n",
      "----------------------------\n"
     ]
    }
   ],
   "source": [
    "cust1.get_customers_by_index(1)"
   ]
  },
  {
   "cell_type": "code",
   "execution_count": 165,
   "id": "e6ca0e5e",
   "metadata": {},
   "outputs": [
    {
     "name": "stdout",
     "output_type": "stream",
     "text": [
      "\n",
      "What do you want to update \n",
      "-NAME \n",
      "-AGE \n",
      "-PHONE \n",
      "-EMAIL \n",
      "-Address \n",
      "-GENDER \n",
      "-BALANCE \n",
      "-ID \n",
      "-ALL  \n",
      " -->age\n",
      "Enter New Age  :  37\n"
     ]
    }
   ],
   "source": [
    "cust1.update_customers(1)"
   ]
  },
  {
   "cell_type": "code",
   "execution_count": 166,
   "id": "9e5263a1",
   "metadata": {},
   "outputs": [
    {
     "name": "stdout",
     "output_type": "stream",
     "text": [
      "1 -\n",
      "Name    :  DADS DADA \n",
      "ID      :  9382 \n",
      "Balance :  12731 $ \n",
      "Gender  :  male \n",
      "Age     :  37 \n",
      "Phone   :  12893 \n",
      "Email   :  lsadjn \n",
      "Address :  ASDIOAJ \n",
      "\n",
      "----------------------------\n"
     ]
    }
   ],
   "source": [
    "cust1.get_customers_by_index(1)"
   ]
  },
  {
   "cell_type": "code",
   "execution_count": 167,
   "id": "27fe1671",
   "metadata": {},
   "outputs": [
    {
     "name": "stdout",
     "output_type": "stream",
     "text": [
      "Warning !! \n",
      "All data for the Customers will be erased \n",
      "Press 0 to cancel or 1 to continue  : 1\n",
      "Data has been deleted successfully\n"
     ]
    }
   ],
   "source": [
    "cust1.remove_customers_by_index(1)"
   ]
  },
  {
   "cell_type": "code",
   "execution_count": 168,
   "id": "cb7340f8",
   "metadata": {},
   "outputs": [
    {
     "name": "stdout",
     "output_type": "stream",
     "text": [
      "0 -\n",
      "Name    :  FATMA MOHAMED \n",
      "ID      :  1002145600 \n",
      "Balance :  18000 $ \n",
      "Gender  :  Femal \n",
      "Age     :  21 \n",
      "Phone   :  01000024510 \n",
      "Email   :  Fatma2002@gmail.com \n",
      "Address :  BNISWEEF \n",
      "\n",
      "----------------------------\n"
     ]
    }
   ],
   "source": [
    "cust1.get_Customers()"
   ]
  },
  {
   "cell_type": "markdown",
   "id": "e9d83b11",
   "metadata": {},
   "source": [
    "# Employees "
   ]
  },
  {
   "cell_type": "code",
   "execution_count": 53,
   "id": "e6bdaa58",
   "metadata": {},
   "outputs": [],
   "source": [
    "class Employees (Bank) :\n",
    "    Full_name_e = \"\"\n",
    "    def __init__(self ,Gender =\"\", Age =25,Email =\"\", Address =\"\",Phone = 0,Fristname =\"\", Lastname = \"\", Salary = 0, Sections =\"\",id=0):\n",
    "        super().__init__( Gender, Age, Email, Address, Phone )\n",
    "        self.Fristname = Fristname\n",
    "        self.Lastname  = Lastname\n",
    "        self.Salary    = Salary\n",
    "        self.Sections  = Sections\n",
    "        self.id        = id\n",
    "    \n",
    "    def set_new_employees(self) : \n",
    "        self.Fristname   = input(\"Enter Your Fristname :  \") \n",
    "        self.Lastname    = input(\"Enter Your Lastname : \") \n",
    "        self.id          = input(\"Enter Your ID : \")\n",
    "        self.Gender      = input(\"Male or Female : \")\n",
    "        self. Age        = int(input(\"Enter Your Age :  \")) \n",
    "        self.Email       = input(\"Enter Your Email :  \") \n",
    "        self.Address     = input(\"Enter Your Address :  \") \n",
    "        self.Phone       = input(\"Enter Your Phone :  \")  \n",
    "        self.Sections    = input(\"Enter the Sections :  \")\n",
    "        self.Salary      = int(input(\"Enter the Salary :  \"))\n",
    "        self.Full_name_e = self.Fristname +\" \" + self.Lastname\n",
    "        \n",
    "        #Activate the capitalization mode to facilitate the search process\n",
    "        self.Full_name_e   = self.Full_name_e.upper()\n",
    "        self.Address       = self.Address.upper()\n",
    "        \n",
    "\n",
    "        self.Employees.append(self.Full_name_e)\n",
    "        self.Address_e.append(self.Address)\n",
    "        self.Phone_e.append(self.Phone)\n",
    "        self.Gender_e.append(self.Gender)\n",
    "        self.Age_e.append(self.Age)\n",
    "        self.Email_e.append(self.Email)\n",
    "        self.Salary_e.append(self.Salary)\n",
    "        self.Sections_e.append(self.Sections)\n",
    "        self.id_e.append(self.id)\n",
    "\n",
    "        "
   ]
  },
  {
   "cell_type": "code",
   "execution_count": 169,
   "id": "1514b2a6",
   "metadata": {},
   "outputs": [
    {
     "name": "stdout",
     "output_type": "stream",
     "text": [
      "\t\t\t\t---## Welcome in Smart Bank ##---\n",
      "\n",
      "\n"
     ]
    }
   ],
   "source": [
    "Emp1 = Employees()"
   ]
  },
  {
   "cell_type": "code",
   "execution_count": 170,
   "id": "b6c0b582",
   "metadata": {},
   "outputs": [
    {
     "name": "stdout",
     "output_type": "stream",
     "text": [
      "Enter Your Fristname :  ali\n",
      "Enter Your Lastname : omar\n",
      "Enter Your ID : 2983\n",
      "Male or Female : male\n",
      "Enter Your Age :  89\n",
      "Enter Your Email :  ali@gmail.com\n",
      "Enter Your Address :  cairo\n",
      "Enter Your Phone :  12998372\n",
      "Enter the Sections :  IT\n",
      "Enter the Salary :  4000\n"
     ]
    }
   ],
   "source": [
    "Emp1.set_new_employees()"
   ]
  },
  {
   "cell_type": "code",
   "execution_count": 171,
   "id": "25e7ffaf",
   "metadata": {},
   "outputs": [
    {
     "name": "stdout",
     "output_type": "stream",
     "text": [
      "0 -\n",
      "Name    :  ALAA KHALED \n",
      "ID      :  181050011 \n",
      "Salary  :  20000 $ \n",
      "Section :  Manager  \n",
      "Gender  :  Male \n",
      "Age     :  22 \n",
      "Phone   :  01008331954 \n",
      "Email   :  alaa.kd2001@gmail.com \n",
      "Address :  ELMINYA \n",
      "\n",
      "----------------------------\n",
      "1 -\n",
      "Name    :  OMAR ALI \n",
      "ID      :  181050001 \n",
      "Salary  :  7000 $ \n",
      "Section :  Manager assistant \n",
      "Gender  :  Male \n",
      "Age     :  32 \n",
      "Phone   :  01054589540 \n",
      "Email   :  omar.ali99@gmail.com \n",
      "Address :  CAIRO \n",
      "\n",
      "----------------------------\n",
      "2 -\n",
      "Name    :  ALI OMAR \n",
      "ID      :  2983 \n",
      "Salary  :  4000 $ \n",
      "Section :  IT \n",
      "Gender  :  male \n",
      "Age     :  89 \n",
      "Phone   :  12998372 \n",
      "Email   :  ali@gmail.com \n",
      "Address :  CAIRO \n",
      "\n",
      "----------------------------\n"
     ]
    }
   ],
   "source": [
    "Emp1.get_Employees()"
   ]
  },
  {
   "cell_type": "code",
   "execution_count": 172,
   "id": "532d9c1a",
   "metadata": {},
   "outputs": [
    {
     "name": "stdout",
     "output_type": "stream",
     "text": [
      "found in  2\n"
     ]
    }
   ],
   "source": [
    "Emp1.search_by_id_employees(\"2983\")"
   ]
  },
  {
   "cell_type": "code",
   "execution_count": 173,
   "id": "cba2c36d",
   "metadata": {},
   "outputs": [
    {
     "name": "stdout",
     "output_type": "stream",
     "text": [
      "-\n",
      "Name    :  ALI OMAR \n",
      "ID      :  2983 \n",
      "Salary  :  4000 $ \n",
      "Gender  :  male \n",
      "Age     :  89 \n",
      "Phone   :  12998372 \n",
      "Email   :  ali@gmail.com \n",
      "Address :  CAIRO \n",
      "\n"
     ]
    }
   ],
   "source": [
    "Emp1.get_employees_by_index(2)"
   ]
  },
  {
   "cell_type": "code",
   "execution_count": 174,
   "id": "14d4b2cc",
   "metadata": {},
   "outputs": [
    {
     "name": "stdout",
     "output_type": "stream",
     "text": [
      "What do you want to update \n",
      "-NAME \n",
      "-AGE \n",
      "-PHONE \n",
      "-EMAIL \n",
      "-Address \n",
      "-GENDER \n",
      "-SECTIONS \n",
      "SALARY \n",
      "-ID \n",
      "-ALL \n",
      " -->age\n",
      "Enter New Age  :  42\n"
     ]
    }
   ],
   "source": [
    "Emp1.update_employees(2)"
   ]
  },
  {
   "cell_type": "code",
   "execution_count": 175,
   "id": "7e9f8041",
   "metadata": {},
   "outputs": [
    {
     "name": "stdout",
     "output_type": "stream",
     "text": [
      "-\n",
      "Name    :  ALI OMAR \n",
      "ID      :  2983 \n",
      "Salary  :  4000 $ \n",
      "Gender  :  male \n",
      "Age     :  42 \n",
      "Phone   :  12998372 \n",
      "Email   :  ali@gmail.com \n",
      "Address :  CAIRO \n",
      "\n"
     ]
    }
   ],
   "source": [
    "Emp1.get_employees_by_index(2)"
   ]
  },
  {
   "cell_type": "code",
   "execution_count": 176,
   "id": "1ab3acc5",
   "metadata": {},
   "outputs": [
    {
     "name": "stdout",
     "output_type": "stream",
     "text": [
      "Warning !! \n",
      "All data for the Employees will be erased \n",
      "Press 0 to cancel or 1 to continue0\n",
      "The operation was canceled successfully\n"
     ]
    }
   ],
   "source": [
    "Emp1.remove_employees_by_index(2)"
   ]
  },
  {
   "cell_type": "code",
   "execution_count": 177,
   "id": "3d091b10",
   "metadata": {},
   "outputs": [
    {
     "name": "stdout",
     "output_type": "stream",
     "text": [
      "Warning !! \n",
      "All data for the Employees will be erased \n",
      "Press 0 to cancel or 1 to continue1\n",
      "Data has been deleted successfully\n"
     ]
    }
   ],
   "source": [
    "Emp1.remove_employees_by_index(2)"
   ]
  },
  {
   "cell_type": "code",
   "execution_count": 178,
   "id": "d7cbc064",
   "metadata": {},
   "outputs": [
    {
     "name": "stdout",
     "output_type": "stream",
     "text": [
      "0 -\n",
      "Name    :  ALAA KHALED \n",
      "ID      :  181050011 \n",
      "Salary  :  20000 $ \n",
      "Section :  Manager  \n",
      "Gender  :  Male \n",
      "Age     :  22 \n",
      "Phone   :  01008331954 \n",
      "Email   :  alaa.kd2001@gmail.com \n",
      "Address :  ELMINYA \n",
      "\n",
      "----------------------------\n",
      "1 -\n",
      "Name    :  OMAR ALI \n",
      "ID      :  181050001 \n",
      "Salary  :  7000 $ \n",
      "Section :  Manager assistant \n",
      "Gender  :  Male \n",
      "Age     :  32 \n",
      "Phone   :  01054589540 \n",
      "Email   :  omar.ali99@gmail.com \n",
      "Address :  CAIRO \n",
      "\n",
      "----------------------------\n"
     ]
    }
   ],
   "source": [
    "Emp1.get_Employees()"
   ]
  },
  {
   "cell_type": "code",
   "execution_count": null,
   "id": "72544c6f",
   "metadata": {},
   "outputs": [],
   "source": []
  }
 ],
 "metadata": {
  "kernelspec": {
   "display_name": "Python 3 (ipykernel)",
   "language": "python",
   "name": "python3"
  },
  "language_info": {
   "codemirror_mode": {
    "name": "ipython",
    "version": 3
   },
   "file_extension": ".py",
   "mimetype": "text/x-python",
   "name": "python",
   "nbconvert_exporter": "python",
   "pygments_lexer": "ipython3",
   "version": "3.9.12"
  }
 },
 "nbformat": 4,
 "nbformat_minor": 5
}
